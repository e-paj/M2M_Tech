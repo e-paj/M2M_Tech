{
  "nbformat": 4,
  "nbformat_minor": 0,
  "metadata": {
    "colab": {
      "provenance": [],
      "include_colab_link": true
    },
    "kernelspec": {
      "name": "python3",
      "display_name": "Python 3"
    }
  },
  "cells": [
    {
      "cell_type": "markdown",
      "metadata": {
        "id": "view-in-github",
        "colab_type": "text"
      },
      "source": [
        "<a href=\"https://colab.research.google.com/github/e-paj/M2M_Tech/blob/main/Reading_From_API.ipynb\" target=\"_parent\"><img src=\"https://colab.research.google.com/assets/colab-badge.svg\" alt=\"Open In Colab\"/></a>"
      ]
    },
    {
      "cell_type": "markdown",
      "metadata": {
        "id": "9SAbMmJROact"
      },
      "source": [
        "# Reading From an API - Weather Application\n",
        "\n",
        "Up until now, we've been following the pattern of manually downloading some data, then graphing it. However, this pattern won't work for most applications.\n",
        "\n",
        "For example, while the 2020 US elections were happening, the developers behind the data visualizations on the news weren't manually downloading tables of data as new votes came in, then manually updating the visualizations. Instead, that data was being sent to their visualization application, and they wrote code to receive the data and visualize it.\n",
        "\n",
        "This practice of requesting and receiving data programmatically is called reading from an API. API stands for Application Programming Interface, and APIs are sources of *live data*. So instead of downloading one CSV file and showing that same data over and over, we can write programs to read from an API and show the most up-to-date information every time our code runs.\n",
        "\n",
        "In this notebook we will learn how to read from an API to show a visualization of the live weather forecast."
      ]
    },
    {
      "cell_type": "markdown",
      "metadata": {
        "id": "IldrKttoSPpN"
      },
      "source": [
        "## Our First API Request\n",
        "\n",
        "First let's see how we can make a request to an API. For this notebook, we will be using the [Geospatial Web Services API](https://eccc-msc.github.io/open-data/msc-geomet/web-services_en/#wms-getfeatureinfo) provided by the Government of Canada. This API allows us to access up-to-date weather data for many locations in the world.\n",
        "\n",
        "> Note: an API is basically just a computer somewhere else in the world which is available through a URL, and which will perform actions (such as returning data) based on the contents of requests sent to it."
      ]
    },
    {
      "cell_type": "markdown",
      "metadata": {
        "id": "Og_tI1_XTkx5"
      },
      "source": [
        "In Python, to use an API we use the `requests` module."
      ]
    },
    {
      "cell_type": "code",
      "metadata": {
        "id": "OyPnHrtduber"
      },
      "source": [
        "import requests"
      ],
      "execution_count": 1,
      "outputs": []
    },
    {
      "cell_type": "markdown",
      "metadata": {
        "id": "phCHo81NTqz5"
      },
      "source": [
        "Next, we build the URL for making the request. To start, all API have a *base URL*. This is the URL which you use for all requests to this API."
      ]
    },
    {
      "cell_type": "code",
      "metadata": {
        "id": "5WM_35rNUOrA"
      },
      "source": [
        "api_base = 'https://geo.weather.gc.ca/geomet'"
      ],
      "execution_count": 2,
      "outputs": []
    },
    {
      "cell_type": "markdown",
      "metadata": {
        "id": "StFpv_GlVm9F"
      },
      "source": [
        "API's frequently also have *parameters* which need to be added on to the base URL. These parameters follow the form `PARAMETER_NAME=PARAMETER_VALUE`, and each parameter is separated by a `&`.\n",
        "\n",
        "Our API has many parameters which are required for it to work, and we'll look more at each parameter later, but for now just know that these parameters request the air temperature prediction for Calgary Alberta at 3 o'clock.\n",
        "\n",
        "> Because the API only provides predictions for the present, the `day` variable must be updated to the current day."
      ]
    },
    {
      "cell_type": "code",
      "metadata": {
        "id": "boHeINfuVkbc"
      },
      "source": [
        "# Update this\n",
        "day = '2024-04-04'\n",
        "# Note: this is just a really long string broken into smaller pieces\n",
        "api_params = (\n",
        "    'SERVICE=WMS'\n",
        "    '&VERSION=1.3.0'\n",
        "    '&REQUEST=GetFeatureInfo'\n",
        "    '&BBOX=51,-114,51.5,-113.5'\n",
        "    '&CRS=EPSG:4326'\n",
        "    '&WIDTH=10'\n",
        "    '&HEIGHT=10'\n",
        "    '&LAYERS=GDPS.ETA_TT'\n",
        "    '&QUERY_LAYERS=GDPS.ETA_TT'\n",
        "    '&INFO_FORMAT=application/json'\n",
        "    '&I=5'\n",
        "    '&J=5'\n",
        "    f'&TIME={day}T15:00:00Z'\n",
        ")"
      ],
      "execution_count": 3,
      "outputs": []
    },
    {
      "cell_type": "markdown",
      "metadata": {
        "id": "PT87ga-_WBh8"
      },
      "source": [
        "Finally, we just join the API base and the parameters together with a `?` as a separator and we are finished building the API URL."
      ]
    },
    {
      "cell_type": "code",
      "metadata": {
        "id": "qKD3Gd32WAgC"
      },
      "source": [
        "url = api_base + '?' + api_params"
      ],
      "execution_count": 4,
      "outputs": []
    },
    {
      "cell_type": "markdown",
      "metadata": {
        "id": "PjzDlrMoXfer"
      },
      "source": [
        "Now that we have the URL, we can make a request to the API, and view the results."
      ]
    },
    {
      "cell_type": "code",
      "metadata": {
        "colab": {
          "base_uri": "https://localhost:8080/"
        },
        "id": "Z4OsL9zsXtfF",
        "outputId": "4ec14f14-42b0-4db2-bd15-64a926b2ef17"
      },
      "source": [
        "# API is slow, so we can leave this commented to save time\n",
        "# res = requests.get(url)\n",
        "# res.json()"
      ],
      "execution_count": null,
      "outputs": [
        {
          "output_type": "execute_result",
          "data": {
            "text/plain": [
              "{'type': 'FeatureCollection',\n",
              " 'layer': 'GDPS.ETA_TT',\n",
              " 'features': [{'type': 'Feature',\n",
              "   'id': 'GDPS.ETA_TT(-114.3,51.9)',\n",
              "   'geometry': {'type': 'Point', 'coordinates': [-114.3, 51.9]},\n",
              "   'properties': {'value': '-1.4165405',\n",
              "    'class': '-5 0',\n",
              "    'time': '2024-04-04T15:00:00Z',\n",
              "    'dim_reference_time': '2024-04-04T12:00:00Z'}}]}"
            ]
          },
          "metadata": {},
          "execution_count": 7
        }
      ]
    },
    {
      "cell_type": "markdown",
      "metadata": {
        "id": "jaT5s8l0X7OD"
      },
      "source": [
        "The API returned JSON data to us, which we parsed using the `json` method on the response. This JSON contains the predicted air temperature in the `value` key within the `properties` object."
      ]
    },
    {
      "cell_type": "code",
      "source": [
        "# challenge answer\n",
        "\n",
        "res.json()[\"features\"][0][\"properties\"][\"value\"]"
      ],
      "metadata": {
        "colab": {
          "base_uri": "https://localhost:8080/",
          "height": 35
        },
        "id": "J0j6m_g0Abq2",
        "outputId": "29ef843a-4123-4b3c-ca8b-8d8ada9973fb"
      },
      "execution_count": null,
      "outputs": [
        {
          "output_type": "execute_result",
          "data": {
            "text/plain": [
              "'-1.4165405'"
            ],
            "application/vnd.google.colaboratory.intrinsic+json": {
              "type": "string"
            }
          },
          "metadata": {},
          "execution_count": 14
        }
      ]
    },
    {
      "cell_type": "markdown",
      "metadata": {
        "id": "lxm1pIyCaWjs"
      },
      "source": [
        "## Making Requests Easier\n",
        "\n",
        "Now we know how to make requests and receive data, but the method above is not very easy to use. Let's write code so that we can easily ask for weather data at specific times of day and at any location."
      ]
    },
    {
      "cell_type": "markdown",
      "metadata": {
        "id": "tVSbgaAf7Zf_"
      },
      "source": [
        "We'll start by getting the current time so we can tell the API what time our weather predictions should be for. To do this we'll need a couple imports from the `datetime` module. This module provides many useful features for working with dates and time, for example `datetime.now()` to get a representation of the current time, and `timedelta` which can be used to create objects for doing math with time.\n",
        "\n",
        "The current time might not be what you expect. This is because we are using Coordinated Universal Time (UTC), which is a time that is the same regardless of location on Earth. The API expects UTC.\n",
        "\n",
        "In the `my_time_difference` variable, store the difference between your time and the time printed. For example, for me it shows the hour 15:12:10, but where I am it is really 8:12:10, so my time difference is $8-15=-7$, meaning I am 7 hours behind. We'll use this variable later on.\n"
      ]
    },
    {
      "cell_type": "code",
      "metadata": {
        "colab": {
          "base_uri": "https://localhost:8080/"
        },
        "id": "j4OjmkzU9V0j",
        "outputId": "5c794d72-4971-4694-cc06-ccd4ddadfcec"
      },
      "source": [
        "from datetime import datetime, timedelta\n",
        "\n",
        "print(datetime.now())\n",
        "my_time_difference = -6\n",
        "print(datetime.now() + timedelta(hours=my_time_difference))\n",
        "\n",
        "time = datetime.now() + timedelta(hours=my_time_difference)"
      ],
      "execution_count": 5,
      "outputs": [
        {
          "output_type": "stream",
          "name": "stdout",
          "text": [
            "2024-04-06 00:04:06.874116\n",
            "2024-04-05 18:04:06.881198\n"
          ]
        }
      ]
    },
    {
      "cell_type": "markdown",
      "metadata": {
        "id": "pLUBcGqxFFCV"
      },
      "source": [
        "The API only has times available at three hour intervals following midnight, so we can request temperatures for midnight, 3am, 6am, 9am, etc.. Therefore we need to round to an hour which is a multiple of 3, and this function will help us do that.\n"
      ]
    },
    {
      "cell_type": "code",
      "metadata": {
        "id": "LYhZAZyo63uw"
      },
      "source": [
        "def round_multiple(num, multiple):\n",
        "    \"\"\"Rounds `num` to the nearest multiple of `multiple`.\n",
        "\n",
        "    From: https://stackoverflow.com/a/29557629/14703577\n",
        "    \"\"\"\n",
        "    return ((num + multiple // 2) // multiple) * multiple"
      ],
      "execution_count": 6,
      "outputs": []
    },
    {
      "cell_type": "markdown",
      "metadata": {
        "id": "cTr1Ggy0BqOw"
      },
      "source": [
        "Now we get a string representation of the time in ISO8601 format with precision up to the second, the format the API expects (see the [Handling time section of the documentation](https://eccc-msc.github.io/open-data/msc-geomet/web-services_en/#handling-time))."
      ]
    },
    {
      "cell_type": "code",
      "metadata": {
        "colab": {
          "base_uri": "https://localhost:8080/",
          "height": 35
        },
        "id": "I1CjL58RIi1Y",
        "outputId": "af4d7017-c483-4585-c5f1-e9b71d40ab4f"
      },
      "source": [
        "def get_api_datetime(time: datetime) -> str:\n",
        "    \"\"\"Rounds `time` to the nearest hour multiple of 3, and returns `time`\n",
        "    formatted to a ISO8601 UTC time string expected by the API.\"\"\"\n",
        "    # Convert the time to UTC\n",
        "    utc_time = datetime.utcfromtimestamp(time.timestamp())\n",
        "    # Round to an hour the API accepts\n",
        "    rounded_hour = round_multiple(utc_time.hour, 3)\n",
        "\n",
        "    # Check if we're going into the next day after rounding\n",
        "    if rounded_hour >= 24:\n",
        "        # Round to the start of the next day\n",
        "        utc_time = utc_time.replace(hour=0, minute=0, second=0) + timedelta(days=1)\n",
        "    else:\n",
        "        # Update to the start rounded hour\n",
        "        utc_time = utc_time.replace(hour=rounded_hour, minute=0, second=0)\n",
        "\n",
        "    # isoformat gives the ISO8601 string the API expects\n",
        "    return utc_time.isoformat(timespec='seconds')\n",
        "\n",
        "get_api_datetime(datetime.now())"
      ],
      "execution_count": 7,
      "outputs": [
        {
          "output_type": "execute_result",
          "data": {
            "text/plain": [
              "'2024-04-06T00:00:00'"
            ],
            "application/vnd.google.colaboratory.intrinsic+json": {
              "type": "string"
            }
          },
          "metadata": {},
          "execution_count": 7
        }
      ]
    },
    {
      "cell_type": "markdown",
      "metadata": {
        "id": "YDp81UHUdDMl"
      },
      "source": [
        "Now let's make a function to build up the URL for requesting specific data at a specific time and specific location. We do this by writing out the URL string, and putting in variables of the form `{var_name}` which Python will fill in when we call `format`.\n",
        "\n",
        "The variables include:\n",
        "\n",
        "- The latitude and longitude passed in, as well as `lat_end` and `lng_end` which are slightly bigger. The API needs the location of the prediction to be a box and we just want a small box, so this is why those variables are needed.\n",
        "\n",
        "- The time string for the prediction, which we build using our function we just created.\n",
        "\n",
        "- The layers, which are how we specify the type of data we want from the API. Our default parameter will be the layer name for the air temperature data. We'll look more at how to get different layers later.\n",
        "\n",
        "We also return the prediction time which was actually used, because this may differ from the time requested to the contraints of the API (i.e. the three hour intervals)."
      ]
    },
    {
      "cell_type": "code",
      "metadata": {
        "id": "wilUO1JF3PsH"
      },
      "source": [
        "def get_api_url(time: datetime, lat: float, lng: float, layers='GDPS.ETA_TT'):\n",
        "    \"\"\"Builds the API URL to request data for the given time and location.\n",
        "\n",
        "    Returns the URL and the time the URL will predict for.\n",
        "\n",
        "    `layers` gives the type of data to request, the default is to get the air\n",
        "    temperature prediction.\n",
        "    \"\"\"\n",
        "    pred_time = get_api_datetime(time)\n",
        "\n",
        "    url = (\n",
        "    'https://geo.weather.gc.ca/geomet?SERVICE=WMS&VERSION=1.3.0' # Base API URL, common to all requests\n",
        "    '&REQUEST=GetFeatureInfo' # The request type we want to make, GetFeatureInfo returns weather data\n",
        "    '&BBOX={lat},{lng},{lat_end},{lng_end}' # The location we want the prediction to be for\n",
        "    '&CRS=EPSG:4326&WIDTH=10&HEIGHT=10' # Necessary parameters, not important to us\n",
        "    '&LAYERS={layers}' # The specific type of data we want to be returned\n",
        "    '&QUERY_LAYERS={layers}' # The specific type of data we want to be returned (necessary duplication)\n",
        "    '&INFO_FORMAT=application/json' # Return data in JSON format\n",
        "    '&I=5&J=5' # Necessary parameters, not important to us\n",
        "    '&TIME={time}Z' # The time the prediction should be for\n",
        "    )\n",
        "\n",
        "    return url.format(lat=lat,\n",
        "                      lng=lng,\n",
        "                      lat_end=lat+0.5,\n",
        "                      lng_end=lng+0.5,\n",
        "                      time=pred_time,\n",
        "                      layers=layers), pred_time"
      ],
      "execution_count": 8,
      "outputs": []
    },
    {
      "cell_type": "markdown",
      "metadata": {
        "id": "QOXp2Rr74b_C"
      },
      "source": [
        "Now we can make a function to easily get the air temperature for a specific time.\n",
        "\n",
        "> We'll use the latitude and longitude of Calgary Alberta, but you can use whatever coordinates you like. To find the coordinates of the city you live in, you can go to https://www.latlong.net/ and type in the name of your city.\n",
        "\n",
        "> Uncomment the call to the function to check if it works, otherwise leave it commented as the API takes a while to finish."
      ]
    },
    {
      "cell_type": "code",
      "source": [
        "url, pred_time = get_api_url(time, lat=53, lng =-113)\n",
        "res = requests.get(url)"
      ],
      "metadata": {
        "id": "mNO-51flOgQG"
      },
      "execution_count": 9,
      "outputs": []
    },
    {
      "cell_type": "code",
      "source": [
        "res.json()"
      ],
      "metadata": {
        "colab": {
          "base_uri": "https://localhost:8080/"
        },
        "id": "eXKdEnE5PpLH",
        "outputId": "0bb87687-3bb6-4647-fb8e-b4523ad0c7eb"
      },
      "execution_count": 10,
      "outputs": [
        {
          "output_type": "execute_result",
          "data": {
            "text/plain": [
              "{'type': 'FeatureCollection',\n",
              " 'layer': 'GDPS.ETA_TT',\n",
              " 'features': [{'type': 'Feature',\n",
              "   'id': 'GDPS.ETA_TT(-112.8,53.25)',\n",
              "   'geometry': {'type': 'Point', 'coordinates': [-112.8, 53.25]},\n",
              "   'properties': {'value': '0.50133669',\n",
              "    'class': '0 5',\n",
              "    'time': '2024-04-05T18:00:00Z',\n",
              "    'dim_reference_time': '2024-04-05T12:00:00Z'}}]}"
            ]
          },
          "metadata": {},
          "execution_count": 10
        }
      ]
    },
    {
      "cell_type": "code",
      "source": [
        "def get_air_temperature(time:datetime) -> Tuple[float, str]:\n",
        "  url, pred_time = get_api_url(time, lat = 53, lng=-113)\n",
        "  res = requests.get(url)\n",
        "  body = res.json()\n",
        "  air_temperature = float(body['features'][0]['properties']['value'])\n",
        "  return air_temperature, pred_time"
      ],
      "metadata": {
        "id": "TgO_F9vPu5KO"
      },
      "execution_count": null,
      "outputs": []
    },
    {
      "cell_type": "code",
      "metadata": {
        "id": "kHqU6Blt4bdW"
      },
      "source": [
        "def get_air_temperature(time: datetime):\n",
        "    \"\"\"Returns the JSON response from an air temperature request with the given\n",
        "    time, as well as the time the prediction was made for.\"\"\"\n",
        "    url, pred_time = get_api_url(time, lat=53, lng=-113)\n",
        "    res = requests.get(url)\n",
        "    return res.json(), pred_time\n",
        "\n",
        "#get_air_temperature(datetime.now())"
      ],
      "execution_count": 12,
      "outputs": []
    },
    {
      "cell_type": "markdown",
      "metadata": {
        "id": "08uckXZya7KH"
      },
      "source": [
        "# Visualizing Live Weather Data\n",
        "\n",
        "Next let's use the API to show a weather forecast with Bokeh!"
      ]
    },
    {
      "cell_type": "markdown",
      "metadata": {
        "id": "ulg_tRSPOriL"
      },
      "source": [
        "We'll get the forecasted air temperatures for the next 5 three hour intervals. This might take a while to execute, so let's also put some precautions in place to make sure we don't run this unnecessarily."
      ]
    },
    {
      "cell_type": "code",
      "metadata": {
        "id": "B-ydPCBBG4hT"
      },
      "source": [
        "import pandas as pd\n",
        "\n",
        "def get_air_temp_predictions(num=5) -> pd.DataFrame:\n",
        "    \"\"\"Returns a Pandas dataframe containing predicted air temperatures,\n",
        "    with the prediction times as the row labels.\"\"\"\n",
        "    air_temps = []\n",
        "    pred_times = []\n",
        "\n",
        "    now = datetime.now()\n",
        "    # Get the next `num` 3 hour intervals\n",
        "    times = [now + timedelta(hours=3 * i) for i in range(num)]\n",
        "\n",
        "    for time in times:\n",
        "        air_temp_json, pred_time_str = get_air_temperature(time)\n",
        "\n",
        "        # Get the actual prediction value buried in the JSON\n",
        "        air_temp = air_temp_json['features'][0]['properties']['value']\n",
        "        air_temps.append(float(air_temp))\n",
        "\n",
        "        pred_times.append(pred_time_str)\n",
        "\n",
        "    df = pd.DataFrame({'air_temp': air_temps}, index=pred_times)\n",
        "    # Parse the prediction time as dates\n",
        "    df.index = pd.to_datetime(df.index)\n",
        "    return df\n",
        "\n",
        "# Change False to True to retrieve fresh predictions\n",
        "if False or 'air_temp_predictions_gathered' not in globals().keys():\n",
        "    air_temps_df = get_air_temp_predictions()\n",
        "    air_temp_predictions_gathered = True"
      ],
      "execution_count": 16,
      "outputs": []
    },
    {
      "cell_type": "code",
      "metadata": {
        "colab": {
          "base_uri": "https://localhost:8080/",
          "height": 206
        },
        "id": "bolGrZijUV_d",
        "outputId": "d89e5ced-4a76-4f54-a734-fa42e17a8d14"
      },
      "source": [
        "air_temps_df"
      ],
      "execution_count": 17,
      "outputs": [
        {
          "output_type": "execute_result",
          "data": {
            "text/plain": [
              "                     air_temp\n",
              "2024-04-06 00:00:00  2.235986\n",
              "2024-04-06 03:00:00  0.880243\n",
              "2024-04-06 06:00:00 -0.108679\n",
              "2024-04-06 09:00:00 -0.394049\n",
              "2024-04-06 12:00:00 -0.482459"
            ],
            "text/html": [
              "\n",
              "  <div id=\"df-7c4bba2d-b7b9-4431-8a37-0e70203a1e5b\" class=\"colab-df-container\">\n",
              "    <div>\n",
              "<style scoped>\n",
              "    .dataframe tbody tr th:only-of-type {\n",
              "        vertical-align: middle;\n",
              "    }\n",
              "\n",
              "    .dataframe tbody tr th {\n",
              "        vertical-align: top;\n",
              "    }\n",
              "\n",
              "    .dataframe thead th {\n",
              "        text-align: right;\n",
              "    }\n",
              "</style>\n",
              "<table border=\"1\" class=\"dataframe\">\n",
              "  <thead>\n",
              "    <tr style=\"text-align: right;\">\n",
              "      <th></th>\n",
              "      <th>air_temp</th>\n",
              "    </tr>\n",
              "  </thead>\n",
              "  <tbody>\n",
              "    <tr>\n",
              "      <th>2024-04-06 00:00:00</th>\n",
              "      <td>2.235986</td>\n",
              "    </tr>\n",
              "    <tr>\n",
              "      <th>2024-04-06 03:00:00</th>\n",
              "      <td>0.880243</td>\n",
              "    </tr>\n",
              "    <tr>\n",
              "      <th>2024-04-06 06:00:00</th>\n",
              "      <td>-0.108679</td>\n",
              "    </tr>\n",
              "    <tr>\n",
              "      <th>2024-04-06 09:00:00</th>\n",
              "      <td>-0.394049</td>\n",
              "    </tr>\n",
              "    <tr>\n",
              "      <th>2024-04-06 12:00:00</th>\n",
              "      <td>-0.482459</td>\n",
              "    </tr>\n",
              "  </tbody>\n",
              "</table>\n",
              "</div>\n",
              "    <div class=\"colab-df-buttons\">\n",
              "\n",
              "  <div class=\"colab-df-container\">\n",
              "    <button class=\"colab-df-convert\" onclick=\"convertToInteractive('df-7c4bba2d-b7b9-4431-8a37-0e70203a1e5b')\"\n",
              "            title=\"Convert this dataframe to an interactive table.\"\n",
              "            style=\"display:none;\">\n",
              "\n",
              "  <svg xmlns=\"http://www.w3.org/2000/svg\" height=\"24px\" viewBox=\"0 -960 960 960\">\n",
              "    <path d=\"M120-120v-720h720v720H120Zm60-500h600v-160H180v160Zm220 220h160v-160H400v160Zm0 220h160v-160H400v160ZM180-400h160v-160H180v160Zm440 0h160v-160H620v160ZM180-180h160v-160H180v160Zm440 0h160v-160H620v160Z\"/>\n",
              "  </svg>\n",
              "    </button>\n",
              "\n",
              "  <style>\n",
              "    .colab-df-container {\n",
              "      display:flex;\n",
              "      gap: 12px;\n",
              "    }\n",
              "\n",
              "    .colab-df-convert {\n",
              "      background-color: #E8F0FE;\n",
              "      border: none;\n",
              "      border-radius: 50%;\n",
              "      cursor: pointer;\n",
              "      display: none;\n",
              "      fill: #1967D2;\n",
              "      height: 32px;\n",
              "      padding: 0 0 0 0;\n",
              "      width: 32px;\n",
              "    }\n",
              "\n",
              "    .colab-df-convert:hover {\n",
              "      background-color: #E2EBFA;\n",
              "      box-shadow: 0px 1px 2px rgba(60, 64, 67, 0.3), 0px 1px 3px 1px rgba(60, 64, 67, 0.15);\n",
              "      fill: #174EA6;\n",
              "    }\n",
              "\n",
              "    .colab-df-buttons div {\n",
              "      margin-bottom: 4px;\n",
              "    }\n",
              "\n",
              "    [theme=dark] .colab-df-convert {\n",
              "      background-color: #3B4455;\n",
              "      fill: #D2E3FC;\n",
              "    }\n",
              "\n",
              "    [theme=dark] .colab-df-convert:hover {\n",
              "      background-color: #434B5C;\n",
              "      box-shadow: 0px 1px 3px 1px rgba(0, 0, 0, 0.15);\n",
              "      filter: drop-shadow(0px 1px 2px rgba(0, 0, 0, 0.3));\n",
              "      fill: #FFFFFF;\n",
              "    }\n",
              "  </style>\n",
              "\n",
              "    <script>\n",
              "      const buttonEl =\n",
              "        document.querySelector('#df-7c4bba2d-b7b9-4431-8a37-0e70203a1e5b button.colab-df-convert');\n",
              "      buttonEl.style.display =\n",
              "        google.colab.kernel.accessAllowed ? 'block' : 'none';\n",
              "\n",
              "      async function convertToInteractive(key) {\n",
              "        const element = document.querySelector('#df-7c4bba2d-b7b9-4431-8a37-0e70203a1e5b');\n",
              "        const dataTable =\n",
              "          await google.colab.kernel.invokeFunction('convertToInteractive',\n",
              "                                                    [key], {});\n",
              "        if (!dataTable) return;\n",
              "\n",
              "        const docLinkHtml = 'Like what you see? Visit the ' +\n",
              "          '<a target=\"_blank\" href=https://colab.research.google.com/notebooks/data_table.ipynb>data table notebook</a>'\n",
              "          + ' to learn more about interactive tables.';\n",
              "        element.innerHTML = '';\n",
              "        dataTable['output_type'] = 'display_data';\n",
              "        await google.colab.output.renderOutput(dataTable, element);\n",
              "        const docLink = document.createElement('div');\n",
              "        docLink.innerHTML = docLinkHtml;\n",
              "        element.appendChild(docLink);\n",
              "      }\n",
              "    </script>\n",
              "  </div>\n",
              "\n",
              "\n",
              "<div id=\"df-da4a3344-9f55-450b-9d3c-91c393139087\">\n",
              "  <button class=\"colab-df-quickchart\" onclick=\"quickchart('df-da4a3344-9f55-450b-9d3c-91c393139087')\"\n",
              "            title=\"Suggest charts\"\n",
              "            style=\"display:none;\">\n",
              "\n",
              "<svg xmlns=\"http://www.w3.org/2000/svg\" height=\"24px\"viewBox=\"0 0 24 24\"\n",
              "     width=\"24px\">\n",
              "    <g>\n",
              "        <path d=\"M19 3H5c-1.1 0-2 .9-2 2v14c0 1.1.9 2 2 2h14c1.1 0 2-.9 2-2V5c0-1.1-.9-2-2-2zM9 17H7v-7h2v7zm4 0h-2V7h2v10zm4 0h-2v-4h2v4z\"/>\n",
              "    </g>\n",
              "</svg>\n",
              "  </button>\n",
              "\n",
              "<style>\n",
              "  .colab-df-quickchart {\n",
              "      --bg-color: #E8F0FE;\n",
              "      --fill-color: #1967D2;\n",
              "      --hover-bg-color: #E2EBFA;\n",
              "      --hover-fill-color: #174EA6;\n",
              "      --disabled-fill-color: #AAA;\n",
              "      --disabled-bg-color: #DDD;\n",
              "  }\n",
              "\n",
              "  [theme=dark] .colab-df-quickchart {\n",
              "      --bg-color: #3B4455;\n",
              "      --fill-color: #D2E3FC;\n",
              "      --hover-bg-color: #434B5C;\n",
              "      --hover-fill-color: #FFFFFF;\n",
              "      --disabled-bg-color: #3B4455;\n",
              "      --disabled-fill-color: #666;\n",
              "  }\n",
              "\n",
              "  .colab-df-quickchart {\n",
              "    background-color: var(--bg-color);\n",
              "    border: none;\n",
              "    border-radius: 50%;\n",
              "    cursor: pointer;\n",
              "    display: none;\n",
              "    fill: var(--fill-color);\n",
              "    height: 32px;\n",
              "    padding: 0;\n",
              "    width: 32px;\n",
              "  }\n",
              "\n",
              "  .colab-df-quickchart:hover {\n",
              "    background-color: var(--hover-bg-color);\n",
              "    box-shadow: 0 1px 2px rgba(60, 64, 67, 0.3), 0 1px 3px 1px rgba(60, 64, 67, 0.15);\n",
              "    fill: var(--button-hover-fill-color);\n",
              "  }\n",
              "\n",
              "  .colab-df-quickchart-complete:disabled,\n",
              "  .colab-df-quickchart-complete:disabled:hover {\n",
              "    background-color: var(--disabled-bg-color);\n",
              "    fill: var(--disabled-fill-color);\n",
              "    box-shadow: none;\n",
              "  }\n",
              "\n",
              "  .colab-df-spinner {\n",
              "    border: 2px solid var(--fill-color);\n",
              "    border-color: transparent;\n",
              "    border-bottom-color: var(--fill-color);\n",
              "    animation:\n",
              "      spin 1s steps(1) infinite;\n",
              "  }\n",
              "\n",
              "  @keyframes spin {\n",
              "    0% {\n",
              "      border-color: transparent;\n",
              "      border-bottom-color: var(--fill-color);\n",
              "      border-left-color: var(--fill-color);\n",
              "    }\n",
              "    20% {\n",
              "      border-color: transparent;\n",
              "      border-left-color: var(--fill-color);\n",
              "      border-top-color: var(--fill-color);\n",
              "    }\n",
              "    30% {\n",
              "      border-color: transparent;\n",
              "      border-left-color: var(--fill-color);\n",
              "      border-top-color: var(--fill-color);\n",
              "      border-right-color: var(--fill-color);\n",
              "    }\n",
              "    40% {\n",
              "      border-color: transparent;\n",
              "      border-right-color: var(--fill-color);\n",
              "      border-top-color: var(--fill-color);\n",
              "    }\n",
              "    60% {\n",
              "      border-color: transparent;\n",
              "      border-right-color: var(--fill-color);\n",
              "    }\n",
              "    80% {\n",
              "      border-color: transparent;\n",
              "      border-right-color: var(--fill-color);\n",
              "      border-bottom-color: var(--fill-color);\n",
              "    }\n",
              "    90% {\n",
              "      border-color: transparent;\n",
              "      border-bottom-color: var(--fill-color);\n",
              "    }\n",
              "  }\n",
              "</style>\n",
              "\n",
              "  <script>\n",
              "    async function quickchart(key) {\n",
              "      const quickchartButtonEl =\n",
              "        document.querySelector('#' + key + ' button');\n",
              "      quickchartButtonEl.disabled = true;  // To prevent multiple clicks.\n",
              "      quickchartButtonEl.classList.add('colab-df-spinner');\n",
              "      try {\n",
              "        const charts = await google.colab.kernel.invokeFunction(\n",
              "            'suggestCharts', [key], {});\n",
              "      } catch (error) {\n",
              "        console.error('Error during call to suggestCharts:', error);\n",
              "      }\n",
              "      quickchartButtonEl.classList.remove('colab-df-spinner');\n",
              "      quickchartButtonEl.classList.add('colab-df-quickchart-complete');\n",
              "    }\n",
              "    (() => {\n",
              "      let quickchartButtonEl =\n",
              "        document.querySelector('#df-da4a3344-9f55-450b-9d3c-91c393139087 button');\n",
              "      quickchartButtonEl.style.display =\n",
              "        google.colab.kernel.accessAllowed ? 'block' : 'none';\n",
              "    })();\n",
              "  </script>\n",
              "</div>\n",
              "\n",
              "  <div id=\"id_9b9f1623-8779-4708-b60c-4b826825ee02\">\n",
              "    <style>\n",
              "      .colab-df-generate {\n",
              "        background-color: #E8F0FE;\n",
              "        border: none;\n",
              "        border-radius: 50%;\n",
              "        cursor: pointer;\n",
              "        display: none;\n",
              "        fill: #1967D2;\n",
              "        height: 32px;\n",
              "        padding: 0 0 0 0;\n",
              "        width: 32px;\n",
              "      }\n",
              "\n",
              "      .colab-df-generate:hover {\n",
              "        background-color: #E2EBFA;\n",
              "        box-shadow: 0px 1px 2px rgba(60, 64, 67, 0.3), 0px 1px 3px 1px rgba(60, 64, 67, 0.15);\n",
              "        fill: #174EA6;\n",
              "      }\n",
              "\n",
              "      [theme=dark] .colab-df-generate {\n",
              "        background-color: #3B4455;\n",
              "        fill: #D2E3FC;\n",
              "      }\n",
              "\n",
              "      [theme=dark] .colab-df-generate:hover {\n",
              "        background-color: #434B5C;\n",
              "        box-shadow: 0px 1px 3px 1px rgba(0, 0, 0, 0.15);\n",
              "        filter: drop-shadow(0px 1px 2px rgba(0, 0, 0, 0.3));\n",
              "        fill: #FFFFFF;\n",
              "      }\n",
              "    </style>\n",
              "    <button class=\"colab-df-generate\" onclick=\"generateWithVariable('air_temps_df')\"\n",
              "            title=\"Generate code using this dataframe.\"\n",
              "            style=\"display:none;\">\n",
              "\n",
              "  <svg xmlns=\"http://www.w3.org/2000/svg\" height=\"24px\"viewBox=\"0 0 24 24\"\n",
              "       width=\"24px\">\n",
              "    <path d=\"M7,19H8.4L18.45,9,17,7.55,7,17.6ZM5,21V16.75L18.45,3.32a2,2,0,0,1,2.83,0l1.4,1.43a1.91,1.91,0,0,1,.58,1.4,1.91,1.91,0,0,1-.58,1.4L9.25,21ZM18.45,9,17,7.55Zm-12,3A5.31,5.31,0,0,0,4.9,8.1,5.31,5.31,0,0,0,1,6.5,5.31,5.31,0,0,0,4.9,4.9,5.31,5.31,0,0,0,6.5,1,5.31,5.31,0,0,0,8.1,4.9,5.31,5.31,0,0,0,12,6.5,5.46,5.46,0,0,0,6.5,12Z\"/>\n",
              "  </svg>\n",
              "    </button>\n",
              "    <script>\n",
              "      (() => {\n",
              "      const buttonEl =\n",
              "        document.querySelector('#id_9b9f1623-8779-4708-b60c-4b826825ee02 button.colab-df-generate');\n",
              "      buttonEl.style.display =\n",
              "        google.colab.kernel.accessAllowed ? 'block' : 'none';\n",
              "\n",
              "      buttonEl.onclick = () => {\n",
              "        google.colab.notebook.generateWithVariable('air_temps_df');\n",
              "      }\n",
              "      })();\n",
              "    </script>\n",
              "  </div>\n",
              "\n",
              "    </div>\n",
              "  </div>\n"
            ],
            "application/vnd.google.colaboratory.intrinsic+json": {
              "type": "dataframe",
              "variable_name": "air_temps_df",
              "summary": "{\n  \"name\": \"air_temps_df\",\n  \"rows\": 5,\n  \"fields\": [\n    {\n      \"column\": \"air_temp\",\n      \"properties\": {\n        \"dtype\": \"number\",\n        \"std\": 1.1473933133598029,\n        \"min\": -0.4824585,\n        \"max\": 2.2359862,\n        \"num_unique_values\": 5,\n        \"samples\": [\n          0.88024294,\n          -0.4824585,\n          -0.1086792\n        ],\n        \"semantic_type\": \"\",\n        \"description\": \"\"\n      }\n    }\n  ]\n}"
            }
          },
          "metadata": {},
          "execution_count": 17
        }
      ]
    },
    {
      "cell_type": "code",
      "metadata": {
        "id": "qllWuuVTYBZ7"
      },
      "source": [
        "from bokeh.plotting import show, figure, output_notebook\n",
        "\n",
        "output_notebook()"
      ],
      "execution_count": 18,
      "outputs": []
    },
    {
      "cell_type": "code",
      "metadata": {
        "colab": {
          "base_uri": "https://localhost:8080/",
          "height": 617
        },
        "id": "dexQHOQ5YRos",
        "outputId": "37da0a1e-070e-4ec0-f6b6-603eb4da5da9"
      },
      "source": [
        "# Update the x-axis values to show based on your time, not UTC\n",
        "x = air_temps_df.index + timedelta(hours=my_time_difference)\n",
        "y = air_temps_df['air_temp']\n",
        "\n",
        "# Show the temperatures in increments of 10\n",
        "y_min = round_multiple(y.min(), 10)\n",
        "if y_min > y.min():\n",
        "    y_min -= 10\n",
        "\n",
        "y_max = round_multiple(y.max(), 10)\n",
        "if y_max < y.max():\n",
        "    y_max += 10\n",
        "\n",
        "p = figure(title='Air temperature forecast', x_axis_type='datetime',\n",
        "           x_axis_label='Time of day', y_axis_label='Temperature (Celsius)',\n",
        "           y_range=[y_min, y_max])\n",
        "\n",
        "p.line(x=x, y=y)\n",
        "p.scatter(x=x, y=y)\n",
        "\n",
        "show(p)"
      ],
      "execution_count": 19,
      "outputs": [
        {
          "output_type": "display_data",
          "data": {
            "application/javascript": [
              "(function(root) {\n",
              "  function now() {\n",
              "    return new Date();\n",
              "  }\n",
              "\n",
              "  const force = true;\n",
              "\n",
              "  if (typeof root._bokeh_onload_callbacks === \"undefined\" || force === true) {\n",
              "    root._bokeh_onload_callbacks = [];\n",
              "    root._bokeh_is_loading = undefined;\n",
              "  }\n",
              "\n",
              "const JS_MIME_TYPE = 'application/javascript';\n",
              "  const HTML_MIME_TYPE = 'text/html';\n",
              "  const EXEC_MIME_TYPE = 'application/vnd.bokehjs_exec.v0+json';\n",
              "  const CLASS_NAME = 'output_bokeh rendered_html';\n",
              "\n",
              "  /**\n",
              "   * Render data to the DOM node\n",
              "   */\n",
              "  function render(props, node) {\n",
              "    const script = document.createElement(\"script\");\n",
              "    node.appendChild(script);\n",
              "  }\n",
              "\n",
              "  /**\n",
              "   * Handle when an output is cleared or removed\n",
              "   */\n",
              "  function handleClearOutput(event, handle) {\n",
              "    function drop(id) {\n",
              "      const view = Bokeh.index.get_by_id(id)\n",
              "      if (view != null) {\n",
              "        view.model.document.clear()\n",
              "        Bokeh.index.delete(view)\n",
              "      }\n",
              "    }\n",
              "\n",
              "    const cell = handle.cell;\n",
              "\n",
              "    const id = cell.output_area._bokeh_element_id;\n",
              "    const server_id = cell.output_area._bokeh_server_id;\n",
              "\n",
              "    // Clean up Bokeh references\n",
              "    if (id != null) {\n",
              "      drop(id)\n",
              "    }\n",
              "\n",
              "    if (server_id !== undefined) {\n",
              "      // Clean up Bokeh references\n",
              "      const cmd_clean = \"from bokeh.io.state import curstate; print(curstate().uuid_to_server['\" + server_id + \"'].get_sessions()[0].document.roots[0]._id)\";\n",
              "      cell.notebook.kernel.execute(cmd_clean, {\n",
              "        iopub: {\n",
              "          output: function(msg) {\n",
              "            const id = msg.content.text.trim()\n",
              "            drop(id)\n",
              "          }\n",
              "        }\n",
              "      });\n",
              "      // Destroy server and session\n",
              "      const cmd_destroy = \"import bokeh.io.notebook as ion; ion.destroy_server('\" + server_id + \"')\";\n",
              "      cell.notebook.kernel.execute(cmd_destroy);\n",
              "    }\n",
              "  }\n",
              "\n",
              "  /**\n",
              "   * Handle when a new output is added\n",
              "   */\n",
              "  function handleAddOutput(event, handle) {\n",
              "    const output_area = handle.output_area;\n",
              "    const output = handle.output;\n",
              "\n",
              "    // limit handleAddOutput to display_data with EXEC_MIME_TYPE content only\n",
              "    if ((output.output_type != \"display_data\") || (!Object.prototype.hasOwnProperty.call(output.data, EXEC_MIME_TYPE))) {\n",
              "      return\n",
              "    }\n",
              "\n",
              "    const toinsert = output_area.element.find(\".\" + CLASS_NAME.split(' ')[0]);\n",
              "\n",
              "    if (output.metadata[EXEC_MIME_TYPE][\"id\"] !== undefined) {\n",
              "      toinsert[toinsert.length - 1].firstChild.textContent = output.data[JS_MIME_TYPE];\n",
              "      // store reference to embed id on output_area\n",
              "      output_area._bokeh_element_id = output.metadata[EXEC_MIME_TYPE][\"id\"];\n",
              "    }\n",
              "    if (output.metadata[EXEC_MIME_TYPE][\"server_id\"] !== undefined) {\n",
              "      const bk_div = document.createElement(\"div\");\n",
              "      bk_div.innerHTML = output.data[HTML_MIME_TYPE];\n",
              "      const script_attrs = bk_div.children[0].attributes;\n",
              "      for (let i = 0; i < script_attrs.length; i++) {\n",
              "        toinsert[toinsert.length - 1].firstChild.setAttribute(script_attrs[i].name, script_attrs[i].value);\n",
              "        toinsert[toinsert.length - 1].firstChild.textContent = bk_div.children[0].textContent\n",
              "      }\n",
              "      // store reference to server id on output_area\n",
              "      output_area._bokeh_server_id = output.metadata[EXEC_MIME_TYPE][\"server_id\"];\n",
              "    }\n",
              "  }\n",
              "\n",
              "  function register_renderer(events, OutputArea) {\n",
              "\n",
              "    function append_mime(data, metadata, element) {\n",
              "      // create a DOM node to render to\n",
              "      const toinsert = this.create_output_subarea(\n",
              "        metadata,\n",
              "        CLASS_NAME,\n",
              "        EXEC_MIME_TYPE\n",
              "      );\n",
              "      this.keyboard_manager.register_events(toinsert);\n",
              "      // Render to node\n",
              "      const props = {data: data, metadata: metadata[EXEC_MIME_TYPE]};\n",
              "      render(props, toinsert[toinsert.length - 1]);\n",
              "      element.append(toinsert);\n",
              "      return toinsert\n",
              "    }\n",
              "\n",
              "    /* Handle when an output is cleared or removed */\n",
              "    events.on('clear_output.CodeCell', handleClearOutput);\n",
              "    events.on('delete.Cell', handleClearOutput);\n",
              "\n",
              "    /* Handle when a new output is added */\n",
              "    events.on('output_added.OutputArea', handleAddOutput);\n",
              "\n",
              "    /**\n",
              "     * Register the mime type and append_mime function with output_area\n",
              "     */\n",
              "    OutputArea.prototype.register_mime_type(EXEC_MIME_TYPE, append_mime, {\n",
              "      /* Is output safe? */\n",
              "      safe: true,\n",
              "      /* Index of renderer in `output_area.display_order` */\n",
              "      index: 0\n",
              "    });\n",
              "  }\n",
              "\n",
              "  // register the mime type if in Jupyter Notebook environment and previously unregistered\n",
              "  if (root.Jupyter !== undefined) {\n",
              "    const events = require('base/js/events');\n",
              "    const OutputArea = require('notebook/js/outputarea').OutputArea;\n",
              "\n",
              "    if (OutputArea.prototype.mime_types().indexOf(EXEC_MIME_TYPE) == -1) {\n",
              "      register_renderer(events, OutputArea);\n",
              "    }\n",
              "  }\n",
              "  if (typeof (root._bokeh_timeout) === \"undefined\" || force === true) {\n",
              "    root._bokeh_timeout = Date.now() + 5000;\n",
              "    root._bokeh_failed_load = false;\n",
              "  }\n",
              "\n",
              "  const NB_LOAD_WARNING = {'data': {'text/html':\n",
              "     \"<div style='background-color: #fdd'>\\n\"+\n",
              "     \"<p>\\n\"+\n",
              "     \"BokehJS does not appear to have successfully loaded. If loading BokehJS from CDN, this \\n\"+\n",
              "     \"may be due to a slow or bad network connection. Possible fixes:\\n\"+\n",
              "     \"</p>\\n\"+\n",
              "     \"<ul>\\n\"+\n",
              "     \"<li>re-rerun `output_notebook()` to attempt to load from CDN again, or</li>\\n\"+\n",
              "     \"<li>use INLINE resources instead, as so:</li>\\n\"+\n",
              "     \"</ul>\\n\"+\n",
              "     \"<code>\\n\"+\n",
              "     \"from bokeh.resources import INLINE\\n\"+\n",
              "     \"output_notebook(resources=INLINE)\\n\"+\n",
              "     \"</code>\\n\"+\n",
              "     \"</div>\"}};\n",
              "\n",
              "  function display_loaded() {\n",
              "    const el = document.getElementById(null);\n",
              "    if (el != null) {\n",
              "      el.textContent = \"BokehJS is loading...\";\n",
              "    }\n",
              "    if (root.Bokeh !== undefined) {\n",
              "      if (el != null) {\n",
              "        el.textContent = \"BokehJS \" + root.Bokeh.version + \" successfully loaded.\";\n",
              "      }\n",
              "    } else if (Date.now() < root._bokeh_timeout) {\n",
              "      setTimeout(display_loaded, 100)\n",
              "    }\n",
              "  }\n",
              "\n",
              "  function run_callbacks() {\n",
              "    try {\n",
              "      root._bokeh_onload_callbacks.forEach(function(callback) {\n",
              "        if (callback != null)\n",
              "          callback();\n",
              "      });\n",
              "    } finally {\n",
              "      delete root._bokeh_onload_callbacks\n",
              "    }\n",
              "    console.debug(\"Bokeh: all callbacks have finished\");\n",
              "  }\n",
              "\n",
              "  function load_libs(css_urls, js_urls, callback) {\n",
              "    if (css_urls == null) css_urls = [];\n",
              "    if (js_urls == null) js_urls = [];\n",
              "\n",
              "    root._bokeh_onload_callbacks.push(callback);\n",
              "    if (root._bokeh_is_loading > 0) {\n",
              "      console.debug(\"Bokeh: BokehJS is being loaded, scheduling callback at\", now());\n",
              "      return null;\n",
              "    }\n",
              "    if (js_urls == null || js_urls.length === 0) {\n",
              "      run_callbacks();\n",
              "      return null;\n",
              "    }\n",
              "    console.debug(\"Bokeh: BokehJS not loaded, scheduling load and callback at\", now());\n",
              "    root._bokeh_is_loading = css_urls.length + js_urls.length;\n",
              "\n",
              "    function on_load() {\n",
              "      root._bokeh_is_loading--;\n",
              "      if (root._bokeh_is_loading === 0) {\n",
              "        console.debug(\"Bokeh: all BokehJS libraries/stylesheets loaded\");\n",
              "        run_callbacks()\n",
              "      }\n",
              "    }\n",
              "\n",
              "    function on_error(url) {\n",
              "      console.error(\"failed to load \" + url);\n",
              "    }\n",
              "\n",
              "    for (let i = 0; i < css_urls.length; i++) {\n",
              "      const url = css_urls[i];\n",
              "      const element = document.createElement(\"link\");\n",
              "      element.onload = on_load;\n",
              "      element.onerror = on_error.bind(null, url);\n",
              "      element.rel = \"stylesheet\";\n",
              "      element.type = \"text/css\";\n",
              "      element.href = url;\n",
              "      console.debug(\"Bokeh: injecting link tag for BokehJS stylesheet: \", url);\n",
              "      document.body.appendChild(element);\n",
              "    }\n",
              "\n",
              "    for (let i = 0; i < js_urls.length; i++) {\n",
              "      const url = js_urls[i];\n",
              "      const element = document.createElement('script');\n",
              "      element.onload = on_load;\n",
              "      element.onerror = on_error.bind(null, url);\n",
              "      element.async = false;\n",
              "      element.src = url;\n",
              "      console.debug(\"Bokeh: injecting script tag for BokehJS library: \", url);\n",
              "      document.head.appendChild(element);\n",
              "    }\n",
              "  };\n",
              "\n",
              "  function inject_raw_css(css) {\n",
              "    const element = document.createElement(\"style\");\n",
              "    element.appendChild(document.createTextNode(css));\n",
              "    document.body.appendChild(element);\n",
              "  }\n",
              "\n",
              "  const js_urls = [\"https://cdn.bokeh.org/bokeh/release/bokeh-3.3.4.min.js\", \"https://cdn.bokeh.org/bokeh/release/bokeh-gl-3.3.4.min.js\", \"https://cdn.bokeh.org/bokeh/release/bokeh-widgets-3.3.4.min.js\", \"https://cdn.bokeh.org/bokeh/release/bokeh-tables-3.3.4.min.js\", \"https://cdn.bokeh.org/bokeh/release/bokeh-mathjax-3.3.4.min.js\"];\n",
              "  const css_urls = [];\n",
              "\n",
              "  const inline_js = [    function(Bokeh) {\n",
              "      Bokeh.set_log_level(\"info\");\n",
              "    },\n",
              "function(Bokeh) {\n",
              "    }\n",
              "  ];\n",
              "\n",
              "  function run_inline_js() {\n",
              "    if (root.Bokeh !== undefined || force === true) {\n",
              "          for (let i = 0; i < inline_js.length; i++) {\n",
              "      inline_js[i].call(root, root.Bokeh);\n",
              "    }\n",
              "} else if (Date.now() < root._bokeh_timeout) {\n",
              "      setTimeout(run_inline_js, 100);\n",
              "    } else if (!root._bokeh_failed_load) {\n",
              "      console.log(\"Bokeh: BokehJS failed to load within specified timeout.\");\n",
              "      root._bokeh_failed_load = true;\n",
              "    } else if (force !== true) {\n",
              "      const cell = $(document.getElementById(null)).parents('.cell').data().cell;\n",
              "      cell.output_area.append_execute_result(NB_LOAD_WARNING)\n",
              "    }\n",
              "  }\n",
              "\n",
              "  if (root._bokeh_is_loading === 0) {\n",
              "    console.debug(\"Bokeh: BokehJS loaded, going straight to plotting\");\n",
              "    run_inline_js();\n",
              "  } else {\n",
              "    load_libs(css_urls, js_urls, function() {\n",
              "      console.debug(\"Bokeh: BokehJS plotting callback run at\", now());\n",
              "      run_inline_js();\n",
              "    });\n",
              "  }\n",
              "}(window));"
            ],
            "application/vnd.bokehjs_load.v0+json": "(function(root) {\n  function now() {\n    return new Date();\n  }\n\n  const force = true;\n\n  if (typeof root._bokeh_onload_callbacks === \"undefined\" || force === true) {\n    root._bokeh_onload_callbacks = [];\n    root._bokeh_is_loading = undefined;\n  }\n\n\n  if (typeof (root._bokeh_timeout) === \"undefined\" || force === true) {\n    root._bokeh_timeout = Date.now() + 5000;\n    root._bokeh_failed_load = false;\n  }\n\n  const NB_LOAD_WARNING = {'data': {'text/html':\n     \"<div style='background-color: #fdd'>\\n\"+\n     \"<p>\\n\"+\n     \"BokehJS does not appear to have successfully loaded. If loading BokehJS from CDN, this \\n\"+\n     \"may be due to a slow or bad network connection. Possible fixes:\\n\"+\n     \"</p>\\n\"+\n     \"<ul>\\n\"+\n     \"<li>re-rerun `output_notebook()` to attempt to load from CDN again, or</li>\\n\"+\n     \"<li>use INLINE resources instead, as so:</li>\\n\"+\n     \"</ul>\\n\"+\n     \"<code>\\n\"+\n     \"from bokeh.resources import INLINE\\n\"+\n     \"output_notebook(resources=INLINE)\\n\"+\n     \"</code>\\n\"+\n     \"</div>\"}};\n\n  function display_loaded() {\n    const el = document.getElementById(null);\n    if (el != null) {\n      el.textContent = \"BokehJS is loading...\";\n    }\n    if (root.Bokeh !== undefined) {\n      if (el != null) {\n        el.textContent = \"BokehJS \" + root.Bokeh.version + \" successfully loaded.\";\n      }\n    } else if (Date.now() < root._bokeh_timeout) {\n      setTimeout(display_loaded, 100)\n    }\n  }\n\n  function run_callbacks() {\n    try {\n      root._bokeh_onload_callbacks.forEach(function(callback) {\n        if (callback != null)\n          callback();\n      });\n    } finally {\n      delete root._bokeh_onload_callbacks\n    }\n    console.debug(\"Bokeh: all callbacks have finished\");\n  }\n\n  function load_libs(css_urls, js_urls, callback) {\n    if (css_urls == null) css_urls = [];\n    if (js_urls == null) js_urls = [];\n\n    root._bokeh_onload_callbacks.push(callback);\n    if (root._bokeh_is_loading > 0) {\n      console.debug(\"Bokeh: BokehJS is being loaded, scheduling callback at\", now());\n      return null;\n    }\n    if (js_urls == null || js_urls.length === 0) {\n      run_callbacks();\n      return null;\n    }\n    console.debug(\"Bokeh: BokehJS not loaded, scheduling load and callback at\", now());\n    root._bokeh_is_loading = css_urls.length + js_urls.length;\n\n    function on_load() {\n      root._bokeh_is_loading--;\n      if (root._bokeh_is_loading === 0) {\n        console.debug(\"Bokeh: all BokehJS libraries/stylesheets loaded\");\n        run_callbacks()\n      }\n    }\n\n    function on_error(url) {\n      console.error(\"failed to load \" + url);\n    }\n\n    for (let i = 0; i < css_urls.length; i++) {\n      const url = css_urls[i];\n      const element = document.createElement(\"link\");\n      element.onload = on_load;\n      element.onerror = on_error.bind(null, url);\n      element.rel = \"stylesheet\";\n      element.type = \"text/css\";\n      element.href = url;\n      console.debug(\"Bokeh: injecting link tag for BokehJS stylesheet: \", url);\n      document.body.appendChild(element);\n    }\n\n    for (let i = 0; i < js_urls.length; i++) {\n      const url = js_urls[i];\n      const element = document.createElement('script');\n      element.onload = on_load;\n      element.onerror = on_error.bind(null, url);\n      element.async = false;\n      element.src = url;\n      console.debug(\"Bokeh: injecting script tag for BokehJS library: \", url);\n      document.head.appendChild(element);\n    }\n  };\n\n  function inject_raw_css(css) {\n    const element = document.createElement(\"style\");\n    element.appendChild(document.createTextNode(css));\n    document.body.appendChild(element);\n  }\n\n  const js_urls = [\"https://cdn.bokeh.org/bokeh/release/bokeh-3.3.4.min.js\", \"https://cdn.bokeh.org/bokeh/release/bokeh-gl-3.3.4.min.js\", \"https://cdn.bokeh.org/bokeh/release/bokeh-widgets-3.3.4.min.js\", \"https://cdn.bokeh.org/bokeh/release/bokeh-tables-3.3.4.min.js\", \"https://cdn.bokeh.org/bokeh/release/bokeh-mathjax-3.3.4.min.js\"];\n  const css_urls = [];\n\n  const inline_js = [    function(Bokeh) {\n      Bokeh.set_log_level(\"info\");\n    },\nfunction(Bokeh) {\n    }\n  ];\n\n  function run_inline_js() {\n    if (root.Bokeh !== undefined || force === true) {\n          for (let i = 0; i < inline_js.length; i++) {\n      inline_js[i].call(root, root.Bokeh);\n    }\n} else if (Date.now() < root._bokeh_timeout) {\n      setTimeout(run_inline_js, 100);\n    } else if (!root._bokeh_failed_load) {\n      console.log(\"Bokeh: BokehJS failed to load within specified timeout.\");\n      root._bokeh_failed_load = true;\n    } else if (force !== true) {\n      const cell = $(document.getElementById(null)).parents('.cell').data().cell;\n      cell.output_area.append_execute_result(NB_LOAD_WARNING)\n    }\n  }\n\n  if (root._bokeh_is_loading === 0) {\n    console.debug(\"Bokeh: BokehJS loaded, going straight to plotting\");\n    run_inline_js();\n  } else {\n    load_libs(css_urls, js_urls, function() {\n      console.debug(\"Bokeh: BokehJS plotting callback run at\", now());\n      run_inline_js();\n    });\n  }\n}(window));"
          },
          "metadata": {}
        },
        {
          "output_type": "display_data",
          "data": {
            "text/html": [
              "\n",
              "  <div id=\"f13c7f61-df10-4085-a114-3f6e0c13a92e\" data-root-id=\"p1001\" style=\"display: contents;\"></div>\n"
            ]
          },
          "metadata": {}
        },
        {
          "output_type": "display_data",
          "data": {
            "application/javascript": [
              "(function(root) {\n",
              "  function embed_document(root) {\n",
              "  const docs_json = {\"00c5b9f5-c936-48cd-8947-ad3135909b98\":{\"version\":\"3.3.4\",\"title\":\"Bokeh Application\",\"roots\":[{\"type\":\"object\",\"name\":\"Figure\",\"id\":\"p1001\",\"attributes\":{\"x_range\":{\"type\":\"object\",\"name\":\"DataRange1d\",\"id\":\"p1003\"},\"y_range\":{\"type\":\"object\",\"name\":\"Range1d\",\"id\":\"p1011\",\"attributes\":{\"start\":-10.0,\"end\":10.0}},\"x_scale\":{\"type\":\"object\",\"name\":\"LinearScale\",\"id\":\"p1012\"},\"y_scale\":{\"type\":\"object\",\"name\":\"LinearScale\",\"id\":\"p1013\"},\"title\":{\"type\":\"object\",\"name\":\"Title\",\"id\":\"p1004\",\"attributes\":{\"text\":\"Air temperature forecast\"}},\"renderers\":[{\"type\":\"object\",\"name\":\"GlyphRenderer\",\"id\":\"p1053\",\"attributes\":{\"data_source\":{\"type\":\"object\",\"name\":\"ColumnDataSource\",\"id\":\"p1047\",\"attributes\":{\"selected\":{\"type\":\"object\",\"name\":\"Selection\",\"id\":\"p1048\",\"attributes\":{\"indices\":[],\"line_indices\":[]}},\"selection_policy\":{\"type\":\"object\",\"name\":\"UnionRenderers\",\"id\":\"p1049\"},\"data\":{\"type\":\"map\",\"entries\":[[\"x\",{\"type\":\"ndarray\",\"array\":{\"type\":\"bytes\",\"data\":\"AADQrfbqeEIAAIj6AOt4QgAAQEcL63hCAAD4kxXreEIAALDgH+t4Qg==\"},\"shape\":[5],\"dtype\":\"float64\",\"order\":\"little\"}],[\"y\",{\"type\":\"ndarray\",\"array\":{\"type\":\"bytes\",\"data\":\"YnWau0zjAUBst/o98yrsP7pkwWlm0ru/25vnoRk42b+CV8udmeDevw==\"},\"shape\":[5],\"dtype\":\"float64\",\"order\":\"little\"}]]}}},\"view\":{\"type\":\"object\",\"name\":\"CDSView\",\"id\":\"p1054\",\"attributes\":{\"filter\":{\"type\":\"object\",\"name\":\"AllIndices\",\"id\":\"p1055\"}}},\"glyph\":{\"type\":\"object\",\"name\":\"Line\",\"id\":\"p1050\",\"attributes\":{\"x\":{\"type\":\"field\",\"field\":\"x\"},\"y\":{\"type\":\"field\",\"field\":\"y\"},\"line_color\":\"#1f77b4\"}},\"nonselection_glyph\":{\"type\":\"object\",\"name\":\"Line\",\"id\":\"p1051\",\"attributes\":{\"x\":{\"type\":\"field\",\"field\":\"x\"},\"y\":{\"type\":\"field\",\"field\":\"y\"},\"line_color\":\"#1f77b4\",\"line_alpha\":0.1}},\"muted_glyph\":{\"type\":\"object\",\"name\":\"Line\",\"id\":\"p1052\",\"attributes\":{\"x\":{\"type\":\"field\",\"field\":\"x\"},\"y\":{\"type\":\"field\",\"field\":\"y\"},\"line_color\":\"#1f77b4\",\"line_alpha\":0.2}}}},{\"type\":\"object\",\"name\":\"GlyphRenderer\",\"id\":\"p1062\",\"attributes\":{\"data_source\":{\"type\":\"object\",\"name\":\"ColumnDataSource\",\"id\":\"p1056\",\"attributes\":{\"selected\":{\"type\":\"object\",\"name\":\"Selection\",\"id\":\"p1057\",\"attributes\":{\"indices\":[],\"line_indices\":[]}},\"selection_policy\":{\"type\":\"object\",\"name\":\"UnionRenderers\",\"id\":\"p1058\"},\"data\":{\"type\":\"map\",\"entries\":[[\"x\",{\"type\":\"ndarray\",\"array\":{\"type\":\"bytes\",\"data\":\"AADQrfbqeEIAAIj6AOt4QgAAQEcL63hCAAD4kxXreEIAALDgH+t4Qg==\"},\"shape\":[5],\"dtype\":\"float64\",\"order\":\"little\"}],[\"y\",{\"type\":\"ndarray\",\"array\":{\"type\":\"bytes\",\"data\":\"YnWau0zjAUBst/o98yrsP7pkwWlm0ru/25vnoRk42b+CV8udmeDevw==\"},\"shape\":[5],\"dtype\":\"float64\",\"order\":\"little\"}]]}}},\"view\":{\"type\":\"object\",\"name\":\"CDSView\",\"id\":\"p1063\",\"attributes\":{\"filter\":{\"type\":\"object\",\"name\":\"AllIndices\",\"id\":\"p1064\"}}},\"glyph\":{\"type\":\"object\",\"name\":\"Scatter\",\"id\":\"p1059\",\"attributes\":{\"x\":{\"type\":\"field\",\"field\":\"x\"},\"y\":{\"type\":\"field\",\"field\":\"y\"},\"line_color\":{\"type\":\"value\",\"value\":\"#1f77b4\"},\"fill_color\":{\"type\":\"value\",\"value\":\"#1f77b4\"}}},\"nonselection_glyph\":{\"type\":\"object\",\"name\":\"Scatter\",\"id\":\"p1060\",\"attributes\":{\"x\":{\"type\":\"field\",\"field\":\"x\"},\"y\":{\"type\":\"field\",\"field\":\"y\"},\"line_color\":{\"type\":\"value\",\"value\":\"#1f77b4\"},\"line_alpha\":{\"type\":\"value\",\"value\":0.1},\"fill_color\":{\"type\":\"value\",\"value\":\"#1f77b4\"},\"fill_alpha\":{\"type\":\"value\",\"value\":0.1},\"hatch_alpha\":{\"type\":\"value\",\"value\":0.1}}},\"muted_glyph\":{\"type\":\"object\",\"name\":\"Scatter\",\"id\":\"p1061\",\"attributes\":{\"x\":{\"type\":\"field\",\"field\":\"x\"},\"y\":{\"type\":\"field\",\"field\":\"y\"},\"line_color\":{\"type\":\"value\",\"value\":\"#1f77b4\"},\"line_alpha\":{\"type\":\"value\",\"value\":0.2},\"fill_color\":{\"type\":\"value\",\"value\":\"#1f77b4\"},\"fill_alpha\":{\"type\":\"value\",\"value\":0.2},\"hatch_alpha\":{\"type\":\"value\",\"value\":0.2}}}}}],\"toolbar\":{\"type\":\"object\",\"name\":\"Toolbar\",\"id\":\"p1010\",\"attributes\":{\"tools\":[{\"type\":\"object\",\"name\":\"PanTool\",\"id\":\"p1036\"},{\"type\":\"object\",\"name\":\"WheelZoomTool\",\"id\":\"p1037\",\"attributes\":{\"renderers\":\"auto\"}},{\"type\":\"object\",\"name\":\"BoxZoomTool\",\"id\":\"p1038\",\"attributes\":{\"overlay\":{\"type\":\"object\",\"name\":\"BoxAnnotation\",\"id\":\"p1039\",\"attributes\":{\"syncable\":false,\"level\":\"overlay\",\"visible\":false,\"left\":{\"type\":\"number\",\"value\":\"nan\"},\"right\":{\"type\":\"number\",\"value\":\"nan\"},\"top\":{\"type\":\"number\",\"value\":\"nan\"},\"bottom\":{\"type\":\"number\",\"value\":\"nan\"},\"left_units\":\"canvas\",\"right_units\":\"canvas\",\"top_units\":\"canvas\",\"bottom_units\":\"canvas\",\"line_color\":\"black\",\"line_alpha\":1.0,\"line_width\":2,\"line_dash\":[4,4],\"fill_color\":\"lightgrey\",\"fill_alpha\":0.5}}}},{\"type\":\"object\",\"name\":\"SaveTool\",\"id\":\"p1044\"},{\"type\":\"object\",\"name\":\"ResetTool\",\"id\":\"p1045\"},{\"type\":\"object\",\"name\":\"HelpTool\",\"id\":\"p1046\"}]}},\"left\":[{\"type\":\"object\",\"name\":\"LinearAxis\",\"id\":\"p1031\",\"attributes\":{\"ticker\":{\"type\":\"object\",\"name\":\"BasicTicker\",\"id\":\"p1032\",\"attributes\":{\"mantissas\":[1,2,5]}},\"formatter\":{\"type\":\"object\",\"name\":\"BasicTickFormatter\",\"id\":\"p1033\"},\"axis_label\":\"Temperature (Celsius)\",\"major_label_policy\":{\"type\":\"object\",\"name\":\"AllLabels\",\"id\":\"p1034\"}}}],\"below\":[{\"type\":\"object\",\"name\":\"DatetimeAxis\",\"id\":\"p1014\",\"attributes\":{\"ticker\":{\"type\":\"object\",\"name\":\"DatetimeTicker\",\"id\":\"p1015\",\"attributes\":{\"num_minor_ticks\":5,\"tickers\":[{\"type\":\"object\",\"name\":\"AdaptiveTicker\",\"id\":\"p1016\",\"attributes\":{\"num_minor_ticks\":0,\"mantissas\":[1,2,5],\"max_interval\":500.0}},{\"type\":\"object\",\"name\":\"AdaptiveTicker\",\"id\":\"p1017\",\"attributes\":{\"num_minor_ticks\":0,\"base\":60,\"mantissas\":[1,2,5,10,15,20,30],\"min_interval\":1000.0,\"max_interval\":1800000.0}},{\"type\":\"object\",\"name\":\"AdaptiveTicker\",\"id\":\"p1018\",\"attributes\":{\"num_minor_ticks\":0,\"base\":24,\"mantissas\":[1,2,4,6,8,12],\"min_interval\":3600000.0,\"max_interval\":43200000.0}},{\"type\":\"object\",\"name\":\"DaysTicker\",\"id\":\"p1019\",\"attributes\":{\"days\":[1,2,3,4,5,6,7,8,9,10,11,12,13,14,15,16,17,18,19,20,21,22,23,24,25,26,27,28,29,30,31]}},{\"type\":\"object\",\"name\":\"DaysTicker\",\"id\":\"p1020\",\"attributes\":{\"days\":[1,4,7,10,13,16,19,22,25,28]}},{\"type\":\"object\",\"name\":\"DaysTicker\",\"id\":\"p1021\",\"attributes\":{\"days\":[1,8,15,22]}},{\"type\":\"object\",\"name\":\"DaysTicker\",\"id\":\"p1022\",\"attributes\":{\"days\":[1,15]}},{\"type\":\"object\",\"name\":\"MonthsTicker\",\"id\":\"p1023\",\"attributes\":{\"months\":[0,1,2,3,4,5,6,7,8,9,10,11]}},{\"type\":\"object\",\"name\":\"MonthsTicker\",\"id\":\"p1024\",\"attributes\":{\"months\":[0,2,4,6,8,10]}},{\"type\":\"object\",\"name\":\"MonthsTicker\",\"id\":\"p1025\",\"attributes\":{\"months\":[0,4,8]}},{\"type\":\"object\",\"name\":\"MonthsTicker\",\"id\":\"p1026\",\"attributes\":{\"months\":[0,6]}},{\"type\":\"object\",\"name\":\"YearsTicker\",\"id\":\"p1027\"}]}},\"formatter\":{\"type\":\"object\",\"name\":\"DatetimeTickFormatter\",\"id\":\"p1028\"},\"axis_label\":\"Time of day\",\"major_label_policy\":{\"type\":\"object\",\"name\":\"AllLabels\",\"id\":\"p1029\"}}}],\"center\":[{\"type\":\"object\",\"name\":\"Grid\",\"id\":\"p1030\",\"attributes\":{\"axis\":{\"id\":\"p1014\"}}},{\"type\":\"object\",\"name\":\"Grid\",\"id\":\"p1035\",\"attributes\":{\"dimension\":1,\"axis\":{\"id\":\"p1031\"}}}]}}]}};\n",
              "  const render_items = [{\"docid\":\"00c5b9f5-c936-48cd-8947-ad3135909b98\",\"roots\":{\"p1001\":\"f13c7f61-df10-4085-a114-3f6e0c13a92e\"},\"root_ids\":[\"p1001\"]}];\n",
              "  root.Bokeh.embed.embed_items_notebook(docs_json, render_items);\n",
              "  }\n",
              "  if (root.Bokeh !== undefined) {\n",
              "    embed_document(root);\n",
              "  } else {\n",
              "    let attempts = 0;\n",
              "    const timer = setInterval(function(root) {\n",
              "      if (root.Bokeh !== undefined) {\n",
              "        clearInterval(timer);\n",
              "        embed_document(root);\n",
              "      } else {\n",
              "        attempts++;\n",
              "        if (attempts > 100) {\n",
              "          clearInterval(timer);\n",
              "          console.log(\"Bokeh: ERROR: Unable to run BokehJS code because BokehJS library is missing\");\n",
              "        }\n",
              "      }\n",
              "    }, 10, root)\n",
              "  }\n",
              "})(window);"
            ],
            "application/vnd.bokehjs_exec.v0+json": ""
          },
          "metadata": {
            "application/vnd.bokehjs_exec.v0+json": {
              "id": "p1001"
            }
          }
        }
      ]
    },
    {
      "cell_type": "markdown",
      "metadata": {
        "id": "ZTB8ZfnygrQ2"
      },
      "source": [
        "**Challenge**: Add a widget button to the above plot which refreshes the weather data when pressed."
      ]
    },
    {
      "cell_type": "code",
      "source": [
        "# my answer (which is wrong -- Have no idea what to do)\n",
        "\n",
        "from bokeh.io import show\n",
        "from bokeh.models import Button, CustomJS\n",
        "from bokeh.io import push_notebook\n",
        "from ipywidgets import interact\n",
        "\n",
        "initial_plot = show(p, notebook_handle=True)\n",
        "\n",
        "def on_button_click():\n",
        "  update_plot()\n",
        "\n",
        "def update_plot():\n",
        "  pass\n",
        "  push_notebook(handle=initial_plot)\n",
        "\n",
        "@interact(update_plot)\n",
        "\n",
        "PressButton = Button(label = \"Refresh\", button_type = \"success\")\n",
        "PressButton.js_on_click(on_button_click())\n",
        "\n",
        "\n",
        "\n",
        "\n",
        "\n"
      ],
      "metadata": {
        "colab": {
          "base_uri": "https://localhost:8080/",
          "height": 106
        },
        "id": "byQNPKpdCDqm",
        "outputId": "32f9d759-9c3a-4ab9-9c75-b4cedc38488a"
      },
      "execution_count": 49,
      "outputs": [
        {
          "output_type": "error",
          "ename": "SyntaxError",
          "evalue": "invalid syntax (<ipython-input-49-547b1c015a05>, line 19)",
          "traceback": [
            "\u001b[0;36m  File \u001b[0;32m\"<ipython-input-49-547b1c015a05>\"\u001b[0;36m, line \u001b[0;32m19\u001b[0m\n\u001b[0;31m    PressButton = Button(label = \"Refresh\", button_type = \"success\")\u001b[0m\n\u001b[0m    ^\u001b[0m\n\u001b[0;31mSyntaxError\u001b[0m\u001b[0;31m:\u001b[0m invalid syntax\n"
          ]
        }
      ]
    },
    {
      "cell_type": "markdown",
      "metadata": {
        "id": "wbRZqea8g537"
      },
      "source": [
        "## Extra: Getting Different Types of Data\n",
        "\n",
        "For different kinds of data, such as precipitation, we have to update the layers in our URL. The available layers can be seen by downloading the XML document returned from a request to the `GetCapabilites` endpoint of the URL. The below function downloads this data to a file for you (it may take a while)."
      ]
    },
    {
      "cell_type": "code",
      "metadata": {
        "id": "pVIIzz942_9u"
      },
      "source": [
        "def get_api_capabilities():\n",
        "    \"\"\"Writes the response of the API capabilities request to `capabilities.xml`.\n",
        "\n",
        "    This request returns XML with data on everything the API can do.\n",
        "    \"\"\"\n",
        "    url = 'https://geo.weather.gc.ca/geomet?SERVICE=WMS&REQUEST=GetCapabilities&VERSION=1.3.0'\n",
        "\n",
        "    res = requests.get(url)\n",
        "\n",
        "    with open('capabilities.xml', 'w') as f:\n",
        "        f.write(res.text)\n",
        "\n",
        "get_api_capabilities()"
      ],
      "execution_count": 20,
      "outputs": []
    },
    {
      "cell_type": "markdown",
      "metadata": {
        "id": "6FSUyuc5hWq7"
      },
      "source": [
        "Within the downloaded XML, you'll find a `Layer` tag which contains all of the available layers. The `Name` tags contain the layer names which should be used in the URL, and next to those names there will be descriptions of the type of data.\n",
        "\n",
        "**Challenge**: Find a new type of data and make a request to get that data. To do this, perform a search for `GDPS.ETA_TT` (the air temperature layer), and choose a name in the same area as that tag. The name should probably start with `GDPS.`.\n",
        "\n",
        "If you get an error with calling `res.json()`, try a different name."
      ]
    },
    {
      "cell_type": "code",
      "metadata": {
        "colab": {
          "base_uri": "https://localhost:8080/"
        },
        "id": "khyHRRhhiA-c",
        "outputId": "118f203f-d5a6-4aff-8b63-e4ccac46fdac"
      },
      "source": [
        "# This layer will give dew point temperature\n",
        "url, pred_time = get_api_url(datetime.now(), lat=51, lng=-114, layers='GDPS.ETA_ES')\n",
        "res = requests.get(url)\n",
        "res.json()"
      ],
      "execution_count": 21,
      "outputs": [
        {
          "output_type": "execute_result",
          "data": {
            "text/plain": [
              "{'type': 'FeatureCollection',\n",
              " 'layer': 'GDPS.ETA_ES',\n",
              " 'features': [{'type': 'Feature',\n",
              "   'id': 'GDPS.ETA_ES(-114.3,51.9)',\n",
              "   'geometry': {'type': 'Point', 'coordinates': [-114.3, 51.9]},\n",
              "   'properties': {'value': '4.5',\n",
              "    'class': '3 - 5',\n",
              "    'time': '2024-04-06T00:00:00Z',\n",
              "    'dim_reference_time': '2024-04-05T12:00:00Z'}}]}"
            ]
          },
          "metadata": {},
          "execution_count": 21
        }
      ]
    }
  ]
}